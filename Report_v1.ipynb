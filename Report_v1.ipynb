{
 "cells": [
  {
   "cell_type": "markdown",
   "metadata": {},
   "source": [
    "# Data Visualization Project\n",
    "\n",
    "## Airplane Crashes Since 1908\n",
    "\n",
    "***\n",
    "\n",
    "Authors **Catarina Lourenço**\n",
    "\n",
    "Student Numbers **C17709355**\n",
    "\n",
    "Module **Big Data Concepts**\n",
    "\n",
    "Lecturer **Abhishek Kaushik**\n",
    "\n",
    "Course-Year **DT302-2 Business Analytics**\n",
    "\n",
    "Submitted **31-03-2019**\n",
    "\n",
    "***\n"
   ]
  },
  {
   "cell_type": "markdown",
   "metadata": {},
   "source": [
    "## Summary\n",
    "Data Visualization Project using Python and other tools, exploring [open data about aviation crashes](https://www.kaggle.com/saurograndi/airplane-crashes-since-1908), sourced from Kaggle.\n",
    "\n",
    "*Python installation version:* anaconda3-5.1.0\n",
    "\n",
    "*Additional packages:* geopy\n",
    "\n",
    "*Other tools:* Google Fusion Tables, Excel\n",
    "\n",
    "\n",
    "### Open data source selected: \n",
    "[Aviation crashes dataset](https://www.kaggle.com/saurograndi/airplane-crashes-since-1908)\n",
    "\n",
    "#### Database Format\n",
    "| Column Name | Summary |\n",
    "|---------------|------------------------------------------------------|\n",
    "| Date:         | Date of accident,  in the format - January 01, 2001 |\n",
    "| Time:         | Local time, in 24 hr. format unless otherwise specified |\n",
    "| Airline/Op:   | Airline or operator of the aircraft |\n",
    "| Flight #:     | Flight number assigned by the aircraft operator |\n",
    "| Route:        | Complete or partial route flown prior to the accident |\n",
    "| AC Type:      | Aircraft type |\n",
    "| Reg:          | ICAO registration of the aircraft |\n",
    "| cn / ln:      | Construction or serial number / Line or fuselage number |\n",
    "| Aboard:\t    | Total aboard (passengers / crew) |\n",
    "| Fatalities:\t| Total fatalities aboard (passengers / crew) |\n",
    "| Ground:\t    | Total killed on the ground |\n",
    "| Summary:\t    | Brief description of the accident and cause if known |\n",
    "\n",
    "### Final dataset used for analysis \n",
    "\n",
    "The original dataset wasn't used *as-is*, as we had to change some of its structure and contents in order to prepare it for the kind of analysis we had proposed ourselves to perform. \n",
    "\n",
    "**Data cleaning** involved mainly enforcing a coherent format within each column, decluttering text from words like \"near\" to keep only the relevant information, replacing NaN and strings by the correct numeric literal.\n",
    "\n",
    "**Additions** Two columns for GPS coordinates, Latitude and Longitude. This was done using the geopy library (explain further in another section...) to scrap data from BingMaps. The script used can be found [here](add_coordinates.py).\n",
    "\n",
    "**Deletions** The columns *Flight #*, *Route*, *Registration*, *cn/In* were dropped as we didn't require them for our analysis. Additionally, three rows for which the entries couldn't be verified were also dropped.\n",
    "\n",
    "[This is the dataset](dataset/clean_v1_Airplane_Crashes_and_Fatalities_Since_1908.csv) that we used to start cleaning and preparing the data using pandas - See Part 1. Data Preparation.\n",
    "\n",
    "[This is the final dataset](dataset/dataframe_exported.csv) that we used to proceed with analysis - See Part 2. Exploratory Data Analysis.\n",
    "\n",
    "### Questions to be answered: \n",
    "\n",
    "**Descriptive:**\n",
    "* Fatalities before and after hitting the ground\n",
    "* Where do most planes crash (by time period)? Heat map with locations - period of 5-10 years? - change over time - animation/several time periods (WW2)?\n",
    "* Separate into sections? Location by continent, night/day flight, type of aircraft etc\n",
    "* Is there a specific make/model that appears more frequently than others\n",
    "* Are they mainly passenger airplanes/cargo airplanes\n",
    "* Does the age of the plane matter,ie, an older/newer plane regarding crashes\n",
    "\n",
    "**Predictive:**\n",
    "* When/where should we expect the next crash to happen? With how many fatalities?\n",
    "\n",
    "**Text analysis:**\n",
    "* Text analysis: find causes in description text\n",
    "* (Advanced) Text analysis - sentiment analysis"
   ]
  },
  {
   "cell_type": "markdown",
   "metadata": {},
   "source": [
    "## 1. Data Preparation\n",
    "\n",
    "Cleaning, completing, dropping, converting"
   ]
  },
  {
   "cell_type": "markdown",
   "metadata": {},
   "source": [
    "## 2. Exploratory Data Analysis\n",
    "\n",
    "Main insights"
   ]
  },
  {
   "cell_type": "markdown",
   "metadata": {},
   "source": [
    "## 3. Predictive Analysis"
   ]
  },
  {
   "cell_type": "markdown",
   "metadata": {},
   "source": [
    "## Conclusions"
   ]
  }
 ],
 "metadata": {
  "kernelspec": {
   "display_name": "Python 3",
   "language": "python",
   "name": "python3"
  },
  "language_info": {
   "codemirror_mode": {
    "name": "ipython",
    "version": 3
   },
   "file_extension": ".py",
   "mimetype": "text/x-python",
   "name": "python",
   "nbconvert_exporter": "python",
   "pygments_lexer": "ipython3",
   "version": "3.6.8"
  }
 },
 "nbformat": 4,
 "nbformat_minor": 2
}
