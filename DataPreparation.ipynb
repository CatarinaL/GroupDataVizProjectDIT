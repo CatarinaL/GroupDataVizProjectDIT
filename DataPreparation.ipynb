{
 "cells": [
  {
   "cell_type": "markdown",
   "metadata": {},
   "source": [
    "# DataViz Project - Airplane Crashes Since 1908\n",
    "\n",
    "## Exploratory Data Analysis\n",
    "\n",
    "### 1. Reading the data\n",
    "\n"
   ]
  },
  {
   "cell_type": "code",
   "execution_count": 59,
   "metadata": {},
   "outputs": [
    {
     "name": "stdout",
     "output_type": "stream",
     "text": [
      "<class 'pandas.core.frame.DataFrame'>\n",
      "RangeIndex: 5268 entries, 0 to 5267\n",
      "Data columns (total 11 columns):\n",
      "Date          5268 non-null object\n",
      "Time          3049 non-null object\n",
      "Location      5248 non-null object\n",
      "Latitude      5240 non-null float64\n",
      "Longitude     5240 non-null float64\n",
      "Operator      5250 non-null object\n",
      "Type          5241 non-null object\n",
      "Aboard        5246 non-null float64\n",
      "Fatalities    5256 non-null float64\n",
      "Ground        5246 non-null float64\n",
      "Summary       4878 non-null object\n",
      "dtypes: float64(5), object(6)\n",
      "memory usage: 452.8+ KB\n"
     ]
    }
   ],
   "source": [
    "import pandas as pd\n",
    "\n",
    "file_path = \"dataset/clean_v1_Airplane_Crashes_and_Fatalities_Since_1908.csv\"\n",
    "dframe = pd.read_csv(file_path)\n",
    "\n",
    "# get information about data entries by column:\n",
    "dframe.info()\n"
   ]
  },
  {
   "cell_type": "markdown",
   "metadata": {},
   "source": [
    "From the info() method we can see there are several missing values - difference from the total of 5268 entries\n",
    "\n",
    "Date          5268 \n",
    "\n",
    "Time          3049  *-> missing 2219 values*\n",
    "\n",
    "Location      5248  *-> missing 20 values*\n",
    "\n",
    "Latitude      5240  *-> missing 28 values (generated from Location, missing 8)*\n",
    "\n",
    "Longitude     5240  *-> missing 28 values (generated from Location, missing 8)*\n",
    "\n",
    "Operator      5250  *-> missing 18 values*\n",
    "\n",
    "Type          5241  *-> missing 19 values*\n",
    "\n",
    "Aboard        5246  *-> missing 22 values*\n",
    "\n",
    "Fatalities    5256  *-> missing 12 values*\n",
    "\n",
    "Ground        5246  *-> missing 22 values*\n",
    "\n",
    "Summary       4878  *-> missing 390 values*\n",
    "\n"
   ]
  },
  {
   "cell_type": "code",
   "execution_count": 60,
   "metadata": {},
   "outputs": [
    {
     "data": {
      "text/html": [
       "<div>\n",
       "<style scoped>\n",
       "    .dataframe tbody tr th:only-of-type {\n",
       "        vertical-align: middle;\n",
       "    }\n",
       "\n",
       "    .dataframe tbody tr th {\n",
       "        vertical-align: top;\n",
       "    }\n",
       "\n",
       "    .dataframe thead th {\n",
       "        text-align: right;\n",
       "    }\n",
       "</style>\n",
       "<table border=\"1\" class=\"dataframe\">\n",
       "  <thead>\n",
       "    <tr style=\"text-align: right;\">\n",
       "      <th></th>\n",
       "      <th>Date</th>\n",
       "      <th>Time</th>\n",
       "      <th>Location</th>\n",
       "      <th>Operator</th>\n",
       "      <th>Type</th>\n",
       "      <th>Summary</th>\n",
       "    </tr>\n",
       "  </thead>\n",
       "  <tbody>\n",
       "    <tr>\n",
       "      <th>count</th>\n",
       "      <td>5268</td>\n",
       "      <td>3049</td>\n",
       "      <td>5248</td>\n",
       "      <td>5250</td>\n",
       "      <td>5241</td>\n",
       "      <td>4878</td>\n",
       "    </tr>\n",
       "    <tr>\n",
       "      <th>unique</th>\n",
       "      <td>4753</td>\n",
       "      <td>999</td>\n",
       "      <td>4304</td>\n",
       "      <td>2476</td>\n",
       "      <td>2445</td>\n",
       "      <td>4673</td>\n",
       "    </tr>\n",
       "    <tr>\n",
       "      <th>top</th>\n",
       "      <td>06/18/1972</td>\n",
       "      <td>15:00</td>\n",
       "      <td>Moscow, Russia</td>\n",
       "      <td>Aeroflot</td>\n",
       "      <td>Douglas DC-3</td>\n",
       "      <td>Crashed during takeoff.</td>\n",
       "    </tr>\n",
       "    <tr>\n",
       "      <th>freq</th>\n",
       "      <td>4</td>\n",
       "      <td>32</td>\n",
       "      <td>15</td>\n",
       "      <td>179</td>\n",
       "      <td>334</td>\n",
       "      <td>15</td>\n",
       "    </tr>\n",
       "  </tbody>\n",
       "</table>\n",
       "</div>"
      ],
      "text/plain": [
       "              Date   Time        Location  Operator          Type  \\\n",
       "count         5268   3049            5248      5250          5241   \n",
       "unique        4753    999            4304      2476          2445   \n",
       "top     06/18/1972  15:00  Moscow, Russia  Aeroflot  Douglas DC-3   \n",
       "freq             4     32              15       179           334   \n",
       "\n",
       "                        Summary  \n",
       "count                      4878  \n",
       "unique                     4673  \n",
       "top     Crashed during takeoff.  \n",
       "freq                         15  "
      ]
     },
     "execution_count": 60,
     "metadata": {},
     "output_type": "execute_result"
    }
   ],
   "source": [
    "# get a brief statistical summary of the data\n",
    "dframe.describe(include=\"object\") #dtype object"
   ]
  },
  {
   "cell_type": "code",
   "execution_count": 61,
   "metadata": {},
   "outputs": [
    {
     "data": {
      "text/html": [
       "<div>\n",
       "<style scoped>\n",
       "    .dataframe tbody tr th:only-of-type {\n",
       "        vertical-align: middle;\n",
       "    }\n",
       "\n",
       "    .dataframe tbody tr th {\n",
       "        vertical-align: top;\n",
       "    }\n",
       "\n",
       "    .dataframe thead th {\n",
       "        text-align: right;\n",
       "    }\n",
       "</style>\n",
       "<table border=\"1\" class=\"dataframe\">\n",
       "  <thead>\n",
       "    <tr style=\"text-align: right;\">\n",
       "      <th></th>\n",
       "      <th>Latitude</th>\n",
       "      <th>Longitude</th>\n",
       "      <th>Aboard</th>\n",
       "      <th>Fatalities</th>\n",
       "      <th>Ground</th>\n",
       "    </tr>\n",
       "  </thead>\n",
       "  <tbody>\n",
       "    <tr>\n",
       "      <th>count</th>\n",
       "      <td>5240.000000</td>\n",
       "      <td>5240.000000</td>\n",
       "      <td>5246.000000</td>\n",
       "      <td>5256.000000</td>\n",
       "      <td>5246.000000</td>\n",
       "    </tr>\n",
       "    <tr>\n",
       "      <th>mean</th>\n",
       "      <td>27.010367</td>\n",
       "      <td>-16.061076</td>\n",
       "      <td>27.554518</td>\n",
       "      <td>20.068303</td>\n",
       "      <td>1.608845</td>\n",
       "    </tr>\n",
       "    <tr>\n",
       "      <th>std</th>\n",
       "      <td>24.570333</td>\n",
       "      <td>83.419121</td>\n",
       "      <td>43.076711</td>\n",
       "      <td>33.199952</td>\n",
       "      <td>53.987827</td>\n",
       "    </tr>\n",
       "    <tr>\n",
       "      <th>min</th>\n",
       "      <td>-77.529716</td>\n",
       "      <td>-176.669861</td>\n",
       "      <td>0.000000</td>\n",
       "      <td>0.000000</td>\n",
       "      <td>0.000000</td>\n",
       "    </tr>\n",
       "    <tr>\n",
       "      <th>25%</th>\n",
       "      <td>10.944428</td>\n",
       "      <td>-82.810095</td>\n",
       "      <td>5.000000</td>\n",
       "      <td>3.000000</td>\n",
       "      <td>0.000000</td>\n",
       "    </tr>\n",
       "    <tr>\n",
       "      <th>50%</th>\n",
       "      <td>34.392923</td>\n",
       "      <td>-9.149480</td>\n",
       "      <td>13.000000</td>\n",
       "      <td>9.000000</td>\n",
       "      <td>0.000000</td>\n",
       "    </tr>\n",
       "    <tr>\n",
       "      <th>75%</th>\n",
       "      <td>43.801488</td>\n",
       "      <td>37.615021</td>\n",
       "      <td>30.000000</td>\n",
       "      <td>23.000000</td>\n",
       "      <td>0.000000</td>\n",
       "    </tr>\n",
       "    <tr>\n",
       "      <th>max</th>\n",
       "      <td>80.449997</td>\n",
       "      <td>178.800476</td>\n",
       "      <td>644.000000</td>\n",
       "      <td>583.000000</td>\n",
       "      <td>2750.000000</td>\n",
       "    </tr>\n",
       "  </tbody>\n",
       "</table>\n",
       "</div>"
      ],
      "text/plain": [
       "          Latitude    Longitude       Aboard   Fatalities       Ground\n",
       "count  5240.000000  5240.000000  5246.000000  5256.000000  5246.000000\n",
       "mean     27.010367   -16.061076    27.554518    20.068303     1.608845\n",
       "std      24.570333    83.419121    43.076711    33.199952    53.987827\n",
       "min     -77.529716  -176.669861     0.000000     0.000000     0.000000\n",
       "25%      10.944428   -82.810095     5.000000     3.000000     0.000000\n",
       "50%      34.392923    -9.149480    13.000000     9.000000     0.000000\n",
       "75%      43.801488    37.615021    30.000000    23.000000     0.000000\n",
       "max      80.449997   178.800476   644.000000   583.000000  2750.000000"
      ]
     },
     "execution_count": 61,
     "metadata": {},
     "output_type": "execute_result"
    }
   ],
   "source": [
    "dframe.describe() #default only numerical values"
   ]
  },
  {
   "cell_type": "markdown",
   "metadata": {},
   "source": [
    "Only numerical columns are described if we don't use the argument include=\"object\". \n",
    "We can spot some possible errors in Aboard and Fatalities: the minimum shouldn't be zero for either of them, as this dataset is only about crashes with reported fatalities - we'll have to investigate this, as it could be due to missing values or a wrong value.\n",
    "\n",
    "The fact that there are only 4673 unique summaries of the crash doesn't necessarily point to duplicate entries - it might just be the summary was the same kind of description, such as \"Crashed on landing\".\n",
    "\n",
    "\n",
    "### 2. Cleaning and organizing the data\n",
    "\n",
    "Correct types for columns:"
   ]
  },
  {
   "cell_type": "code",
   "execution_count": 62,
   "metadata": {},
   "outputs": [
    {
     "data": {
      "text/plain": [
       "0    09/17/1908\n",
       "1    07/12/1912\n",
       "2    08/06/1913\n",
       "3    09/09/1913\n",
       "4    10/17/1913\n",
       "Name: Date, dtype: object"
      ]
     },
     "execution_count": 62,
     "metadata": {},
     "output_type": "execute_result"
    }
   ],
   "source": [
    "dframe[\"Date\"].head()"
   ]
  },
  {
   "cell_type": "code",
   "execution_count": 63,
   "metadata": {},
   "outputs": [
    {
     "data": {
      "text/plain": [
       "0      1908-09-17\n",
       "1      1912-07-12\n",
       "2      1913-08-06\n",
       "3      1913-09-09\n",
       "4      1913-10-17\n",
       "5      1915-03-05\n",
       "6      1915-09-03\n",
       "7      1916-07-28\n",
       "8      1916-09-24\n",
       "9      1916-10-01\n",
       "10     1916-11-21\n",
       "11     1916-11-28\n",
       "12     1917-03-04\n",
       "13     1917-03-30\n",
       "14     1917-05-14\n",
       "15     1917-06-14\n",
       "16     1917-08-21\n",
       "17     1917-10-20\n",
       "18     1918-04-07\n",
       "19     1918-05-10\n",
       "20     1918-08-11\n",
       "21     1918-12-16\n",
       "22     1919-05-25\n",
       "23     1919-07-19\n",
       "24     1919-10-02\n",
       "25     1919-10-14\n",
       "26     1919-10-20\n",
       "27     1919-10-30\n",
       "28     1920-03-10\n",
       "29     1920-03-30\n",
       "          ...    \n",
       "5238   2008-11-13\n",
       "5239   2008-11-16\n",
       "5240   2008-11-27\n",
       "5241   2008-12-03\n",
       "5242   2008-12-11\n",
       "5243   2008-12-15\n",
       "5244   2009-01-04\n",
       "5245   2009-01-15\n",
       "5246   2009-02-07\n",
       "5247   2009-02-07\n",
       "5248   2009-02-12\n",
       "5249   2009-02-15\n",
       "5250   2009-02-20\n",
       "5251   2009-02-25\n",
       "5252   2009-03-09\n",
       "5253   2009-03-12\n",
       "5254   2009-03-22\n",
       "5255   2009-03-23\n",
       "5256   2009-04-01\n",
       "5257   2009-04-06\n",
       "5258   2009-04-09\n",
       "5259   2009-04-17\n",
       "5260   2009-04-17\n",
       "5261   2009-04-29\n",
       "5262   2009-05-03\n",
       "5263   2009-05-20\n",
       "5264   2009-05-26\n",
       "5265   2009-06-01\n",
       "5266   2009-06-07\n",
       "5267   2009-06-08\n",
       "Name: Date, Length: 5268, dtype: datetime64[ns]"
      ]
     },
     "execution_count": 63,
     "metadata": {},
     "output_type": "execute_result"
    }
   ],
   "source": [
    "pd.to_datetime(dframe[\"Date\"], format=\"%m/%d/%Y\", errors=\"coerce\")"
   ]
  },
  {
   "cell_type": "code",
   "execution_count": 64,
   "metadata": {},
   "outputs": [
    {
     "data": {
      "text/plain": [
       "0         2.0\n",
       "1         5.0\n",
       "2         1.0\n",
       "3        20.0\n",
       "4        30.0\n",
       "5        41.0\n",
       "6        19.0\n",
       "7        20.0\n",
       "8        22.0\n",
       "9        19.0\n",
       "10       28.0\n",
       "11       20.0\n",
       "12       20.0\n",
       "13       23.0\n",
       "14       21.0\n",
       "15       24.0\n",
       "16       18.0\n",
       "17       18.0\n",
       "18       23.0\n",
       "19       22.0\n",
       "20       19.0\n",
       "21        1.0\n",
       "22        1.0\n",
       "23        1.0\n",
       "24        1.0\n",
       "25        1.0\n",
       "26        NaN\n",
       "27        1.0\n",
       "28        1.0\n",
       "29        1.0\n",
       "        ...  \n",
       "5238      7.0\n",
       "5239      8.0\n",
       "5240      7.0\n",
       "5241      3.0\n",
       "5242      3.0\n",
       "5243     12.0\n",
       "5244      9.0\n",
       "5245    155.0\n",
       "5246     28.0\n",
       "5247      2.0\n",
       "5248     49.0\n",
       "5249     13.0\n",
       "5250      5.0\n",
       "5251    134.0\n",
       "5252     11.0\n",
       "5253     18.0\n",
       "5254     14.0\n",
       "5255      2.0\n",
       "5256     16.0\n",
       "5257     24.0\n",
       "5258      6.0\n",
       "5259     11.0\n",
       "5260     11.0\n",
       "5261      7.0\n",
       "5262     18.0\n",
       "5263    112.0\n",
       "5264      4.0\n",
       "5265    228.0\n",
       "5266      1.0\n",
       "5267     13.0\n",
       "Name: Aboard, Length: 5268, dtype: float64"
      ]
     },
     "execution_count": 64,
     "metadata": {},
     "output_type": "execute_result"
    }
   ],
   "source": [
    "dframe['Aboard'] = pd.to_numeric(dframe['Aboard'], downcast=\"integer\", errors=\"coerce\")\n",
    "dframe['Aboard']\n",
    "#dtype=\"Int64\" could also work to cast these as integers and maintain rows with NaN, \n",
    "#meanwhile they are floats"
   ]
  },
  {
   "cell_type": "markdown",
   "metadata": {},
   "source": [
    "\n",
    "Before proceeding with changes to other datatypes, we need to check for NaN values, etc.\n",
    "\n",
    "> isna(obj)\t    Detect missing values for an array-like object.\n",
    ">\n",
    "> isnull(obj)\tDetect missing values for an array-like object.\n",
    ">\n",
    "> notna(obj)\tDetect non-missing values for an array-like object.\n",
    ">\n",
    "> notnull(obj)\tDetect non-missing values for an array-like object.\n",
    "\n",
    "Aboard's mean value is 27.5, so we can use that as a temporary placeholder (or 28, for an integer)"
   ]
  },
  {
   "cell_type": "code",
   "execution_count": 65,
   "metadata": {},
   "outputs": [
    {
     "data": {
      "text/plain": [
       "0         2\n",
       "1         5\n",
       "2         1\n",
       "3        20\n",
       "4        30\n",
       "5        41\n",
       "6        19\n",
       "7        20\n",
       "8        22\n",
       "9        19\n",
       "10       28\n",
       "11       20\n",
       "12       20\n",
       "13       23\n",
       "14       21\n",
       "15       24\n",
       "16       18\n",
       "17       18\n",
       "18       23\n",
       "19       22\n",
       "20       19\n",
       "21        1\n",
       "22        1\n",
       "23        1\n",
       "24        1\n",
       "25        1\n",
       "26       28\n",
       "27        1\n",
       "28        1\n",
       "29        1\n",
       "       ... \n",
       "5238      7\n",
       "5239      8\n",
       "5240      7\n",
       "5241      3\n",
       "5242      3\n",
       "5243     12\n",
       "5244      9\n",
       "5245    155\n",
       "5246     28\n",
       "5247      2\n",
       "5248     49\n",
       "5249     13\n",
       "5250      5\n",
       "5251    134\n",
       "5252     11\n",
       "5253     18\n",
       "5254     14\n",
       "5255      2\n",
       "5256     16\n",
       "5257     24\n",
       "5258      6\n",
       "5259     11\n",
       "5260     11\n",
       "5261      7\n",
       "5262     18\n",
       "5263    112\n",
       "5264      4\n",
       "5265    228\n",
       "5266      1\n",
       "5267     13\n",
       "Name: Aboard, Length: 5268, dtype: object"
      ]
     },
     "execution_count": 65,
     "metadata": {},
     "output_type": "execute_result"
    }
   ],
   "source": [
    "import numpy as np\n",
    "\n",
    "aboard_series = dframe['Aboard']\n",
    "aboard_series.fillna(\"28\", inplace=True)\n",
    "aboard_series\n",
    "\n",
    "#alternatively, replace([1.5, df00], [np.nan, 'a'])\n",
    "# see http://pandas.pydata.org/pandas-docs/stable/user_guide/missing_data.html#numeric-replacement"
   ]
  },
  {
   "cell_type": "code",
   "execution_count": 84,
   "metadata": {},
   "outputs": [
    {
     "name": "stdout",
     "output_type": "stream",
     "text": [
      "No null values in Aboard series.\n",
      "<class 'pandas.core.frame.DataFrame'>\n",
      "RangeIndex: 5268 entries, 0 to 5267\n",
      "Data columns (total 11 columns):\n",
      "Date          5268 non-null object\n",
      "Time          3049 non-null object\n",
      "Location      5248 non-null object\n",
      "Latitude      5240 non-null float64\n",
      "Longitude     5240 non-null float64\n",
      "Operator      5250 non-null object\n",
      "Type          5241 non-null object\n",
      "Aboard        5268 non-null int16\n",
      "Fatalities    5256 non-null float64\n",
      "Ground        5246 non-null float64\n",
      "Summary       4878 non-null object\n",
      "dtypes: float64(4), int16(1), object(6)\n",
      "memory usage: 421.9+ KB\n"
     ]
    }
   ],
   "source": [
    "#are there NA values left? it will return a list with the values that satisfy the condition, \n",
    "#otherwise empty list\n",
    "null_aboard = aboard_series[aboard_series.isnull()]\n",
    "print(\"No null values in Aboard series.\") if not null_aboard.any() else print(null_aboard)\n",
    "dframe[\"Aboard\"] = pd.to_numeric(aboard_series, errors=\"coerce\", downcast=\"integer\")\n",
    "#check dataframe to see if all replacements were done.. aboard should now have 5268 ints\n",
    "dframe.info()"
   ]
  },
  {
   "cell_type": "code",
   "execution_count": 126,
   "metadata": {},
   "outputs": [
    {
     "data": {
      "image/png": "[encoded data removed]",
      "text/plain": [
       "<Figure size 432x288 with 1 Axes>"
      ]
     },
     "metadata": {},
     "output_type": "display_data"
    }
   ],
   "source": [
    "#quick plot\n",
    "import matplotlib as mp\n",
    "import matplotlib.pyplot as plt\n",
    "\n",
    "bins_aboard = [0, 10, 20, 30, 40, 50, 100, 250, 500, 700] #bins don't have to be equal\n",
    "\n",
    "dframe[\"Aboard\"].hist(bins = bins_aboard, color = \"tomato\")\n",
    "plt.ylabel(\"Frequency\")\n",
    "plt.xlabel(\"Passengers Aboard\")\n",
    "plt.yticks(range(0, 2500, 250))\n",
    "plt.xticks(range(0, 650, 50))\n",
    "plt.show()"
   ]
  },
  {
   "cell_type": "code",
   "execution_count": 120,
   "metadata": {},
   "outputs": [
    {
     "data": {
      "text/plain": [
       "(1.0, 0.38823529411764707, 0.2784313725490196, 1.0)"
      ]
     },
     "execution_count": 120,
     "metadata": {},
     "output_type": "execute_result"
    }
   ],
   "source": [
    "dframe[\"Aboard\"].max()\n"
   ]
  }
 ],
 "metadata": {
  "kernelspec": {
   "display_name": "Python 3",
   "language": "python",
   "name": "python3"
  },
  "language_info": {
   "codemirror_mode": {
    "name": "ipython",
    "version": 3
   },
   "file_extension": ".py",
   "mimetype": "text/x-python",
   "name": "python",
   "nbconvert_exporter": "python",
   "pygments_lexer": "ipython3",
   "version": "3.6.8"
  }
 },
 "nbformat": 4,
 "nbformat_minor": 2
}
